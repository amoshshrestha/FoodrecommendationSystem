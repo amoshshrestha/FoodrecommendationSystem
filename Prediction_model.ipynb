{
 "cells": [
  {
   "cell_type": "code",
   "execution_count": 40,
   "id": "acd83148",
   "metadata": {},
   "outputs": [],
   "source": [
    "import pandas as pd\n",
    "import numpy as np\n",
    "from sklearn.metrics.pairwise import cosine_similarity\n",
    "food_data = pd.read_csv('preprocessed_food.csv')\n",
    "disease_data = pd.read_csv('disease.csv')"
   ]
  },
  {
   "cell_type": "code",
   "execution_count": 41,
   "id": "113d99e4",
   "metadata": {},
   "outputs": [],
   "source": [
    "selected_disease = 'Hypertension'"
   ]
  },
  {
   "cell_type": "code",
   "execution_count": 42,
   "id": "d593844c",
   "metadata": {},
   "outputs": [],
   "source": [
    "disease_requirements = disease_data[disease_data['disease_name'] == selected_disease].iloc[:, 1:].values"
   ]
  },
  {
   "cell_type": "code",
   "execution_count": 43,
   "id": "59b19cd2",
   "metadata": {},
   "outputs": [],
   "source": [
    "nutrient_columns = food_data.columns[1:]"
   ]
  },
  {
   "cell_type": "code",
   "execution_count": 44,
   "id": "7ac61051",
   "metadata": {},
   "outputs": [],
   "source": [
    "food_nutrition = food_data[nutrient_columns].values"
   ]
  },
  {
   "cell_type": "code",
   "execution_count": 45,
   "id": "de0ff6c4",
   "metadata": {},
   "outputs": [],
   "source": [
    "similarity_scores = cosine_similarity(disease_requirements, food_nutrition)"
   ]
  },
  {
   "cell_type": "code",
   "execution_count": 46,
   "id": "8cec34fa",
   "metadata": {},
   "outputs": [],
   "source": [
    "top_food_indices = np.argsort(similarity_scores)[0][::-1]"
   ]
  },
  {
   "cell_type": "code",
   "execution_count": 47,
   "id": "b3ac6df8",
   "metadata": {},
   "outputs": [
    {
     "name": "stdout",
     "output_type": "stream",
     "text": [
      "Top Recommended Foods for Hypertension\n",
      "1. Babyfood, junior, vegetables and turkey, dinner\n",
      "2. Babyfood, strained, vegetables and turkey, dinner\n",
      "3. Babyfood, strained, turkey and rice, dinner\n",
      "4. Restaurant, without meat or noodles, vegetable chow mein, Chinese\n",
      "5. Soup, ready to serve, traditional, beef barley, PROGRESSO\n",
      "6. Babyfood, strained, vegetables and ham, dinner\n",
      "7. Babyfood, junior, vegetables and chicken, dinner\n",
      "8. Babyfood, strained, vegetables chicken, dinner\n",
      "9. Soup, ready to serve, beef barley\n",
      "10. Chilchen (Red Berry Beverage) (Navajo)\n",
      "11. Soup, ready-to-serve, canned, beef and vegetables\n",
      "12. Babyfood, junior, vegetables and ham, dinner\n",
      "13. Babyfood, strained, beef noodle, dinner\n",
      "14. Babyfood, strained, chicken noodle, dinner\n",
      "15. Soup, ready-to-serve, canned, chunky vegetable\n",
      "16. Babyfood, junior, chicken noodle, dinner\n",
      "17. Babyfood, strained, peas, vegetables\n",
      "18. CAMPBELL'S CHUNKY Soups, Old Fashioned Vegetable Beef Soup\n",
      "19. Beans, unprepared, all styles, frozen, green, snap\n",
      "20. Babyfood, butternut squash and corn, vegetable\n"
     ]
    }
   ],
   "source": [
    "print(\"Top Recommended Foods for\", selected_disease)\n",
    "for i, idx in enumerate(top_food_indices[:20]): \n",
    "    food_name = food_data.loc[idx, 'name']\n",
    "    print(f\"{i+1}. {food_name}\")"
   ]
  },
  {
   "cell_type": "code",
   "execution_count": 86,
   "id": "42243e9f",
   "metadata": {},
   "outputs": [],
   "source": [
    "excluded_food_indices = food_data[food_data['name'].str.contains(\"babyfood\", case=False)].index\n",
    "top_food_indices = np.argsort(similarity_scores)[0][::-1]\n",
    "filtered_top_food_indices = [idx for idx in top_food_indices if idx not in excluded_food_indices]"
   ]
  },
  {
   "cell_type": "code",
   "execution_count": 87,
   "id": "c363c8b0",
   "metadata": {},
   "outputs": [
    {
     "name": "stdout",
     "output_type": "stream",
     "text": [
      "Top Recommended Foods for Hypertension\n",
      "1. Restaurant, without meat or noodles, vegetable chow mein, Chinese\n",
      "2. Soup, ready to serve, traditional, beef barley, PROGRESSO\n",
      "3. Soup, ready to serve, beef barley\n",
      "4. Chilchen (Red Berry Beverage) (Navajo)\n",
      "5. Soup, ready-to-serve, canned, beef and vegetables\n",
      "6. Soup, ready-to-serve, canned, chunky vegetable\n",
      "7. CAMPBELL'S CHUNKY Soups, Old Fashioned Vegetable Beef Soup\n",
      "8. Beans, unprepared, all styles, frozen, green, snap\n",
      "9. Lemon juice, raw\n",
      "10. CAMPBELL'S CHUNKY Soups, Hearty Beef Barley Soup\n"
     ]
    }
   ],
   "source": [
    "print(\"Top Recommended Foods for\", selected_disease)\n",
    "for i, idx in enumerate(filtered_top_food_indices[:10]):  # Display top 10 recommendations\n",
    "    food_name = food_data.loc[idx, 'name']\n",
    "    print(f\"{i+1}. {food_name}\")"
   ]
  },
  {
   "cell_type": "code",
   "execution_count": 128,
   "id": "e5e8fc88",
   "metadata": {},
   "outputs": [
    {
     "name": "stdout",
     "output_type": "stream",
     "text": [
      "Top Recommended Foods for Skin Cancer\n",
      "1. Squash, raw, includes skin, zucchini, summer\n",
      "2. Squash, without salt, drained, boiled, cooked, crookneck and straightneck, summer\n",
      "3. Squash, with salt, drained, boiled, cooked, crookneck and straightneck, summer\n",
      "4. Squash, raw, crookneck and straightneck, summer\n",
      "5. Melon, banana (Navajo)\n",
      "6. Tomatoes, no salt added, packed in tomato juice, canned, ripe, red\n",
      "7. Tomatoes, packed in tomato juice, canned, ripe, red\n",
      "8. Vegetable juice cocktail, canned, low sodium\n",
      "9. Vegetable juice cocktail, canned\n",
      "10. Lettuce, raw, iceberg (includes crisphead types)\n"
     ]
    }
   ],
   "source": [
    "import pandas as pd\n",
    "import numpy as np\n",
    "from sklearn.metrics.pairwise import cosine_similarity\n",
    "\n",
    "food_data = pd.read_csv('preprocessed_food.csv')\n",
    "disease_data = pd.read_csv('preprocessed_disease.csv')\n",
    "\n",
    "selected_disease = \"Skin Cancer\"\n",
    "\n",
    "disease_limits = disease_data[disease_data['disease_name'] == selected_disease].iloc[:, 1:].values\n",
    "nutrient_columns = food_data.columns[1:]\n",
    "food_nutrition = food_data[nutrient_columns].values\n",
    "similarity_scores = cosine_similarity(disease_limits, food_nutrition)\n",
    "inverted_similarity_scores = 1 - similarity_scores\n",
    "top_food_indices = np.argsort(inverted_similarity_scores)[0] \n",
    "filtered_top_food_indices = [idx for idx in top_food_indices if idx not in excluded_food_indices]\n",
    "\n",
    "\n",
    "print(\"Top Recommended Foods for\", selected_disease)\n",
    "for i, idx in enumerate(filtered_top_food_indices[:10]): \n",
    "    food_name = food_data.loc[idx, 'name']\n",
    "    print(f\"{i+1}. {food_name}\")\n"
   ]
  },
  {
   "cell_type": "code",
   "execution_count": 2,
   "id": "18b493da",
   "metadata": {},
   "outputs": [],
   "source": [
    "import pandas as pd\n",
    "import numpy as np\n",
    "\n",
    "food_data = pd.read_csv('preprocessed_food.csv')\n",
    "disease_data = pd.read_csv('preprocessed_disease.csv')\n",
    "\n",
    "selected_disease = \"Skin Cancer\"\n"
   ]
  },
  {
   "cell_type": "code",
   "execution_count": 3,
   "id": "74c29f24",
   "metadata": {},
   "outputs": [],
   "source": [
    "disease_limits = disease_data[disease_data['disease_name'] == selected_disease].iloc[:, 1:].values"
   ]
  },
  {
   "cell_type": "code",
   "execution_count": 4,
   "id": "b4ccbba3",
   "metadata": {},
   "outputs": [],
   "source": [
    "nutrient_columns = food_data.columns[1:]"
   ]
  },
  {
   "cell_type": "code",
   "execution_count": 5,
   "id": "39e4d5a3",
   "metadata": {},
   "outputs": [],
   "source": [
    "food_nutrition = food_data[nutrient_columns].values"
   ]
  },
  {
   "cell_type": "code",
   "execution_count": 6,
   "id": "6ac66589",
   "metadata": {
    "scrolled": true
   },
   "outputs": [],
   "source": [
    "distance = disease_limits - food_nutrition"
   ]
  },
  {
   "cell_type": "code",
   "execution_count": 7,
   "id": "117b3c5b",
   "metadata": {},
   "outputs": [],
   "source": [
    "food_scores = np.sqrt((distance ** 2).sum(axis=1))"
   ]
  },
  {
   "cell_type": "code",
   "execution_count": 8,
   "id": "cbd7173c",
   "metadata": {},
   "outputs": [],
   "source": [
    "excluded_food_indices = food_data[food_data['name'].str.contains(\"babyfood\", case=False)].index\n",
    "top_food_indices = np.argsort(food_scores)\n",
    "filtered_top_food_indices = [idx for idx in top_food_indices if idx not in excluded_food_indices]"
   ]
  },
  {
   "cell_type": "code",
   "execution_count": 9,
   "id": "cde47776",
   "metadata": {},
   "outputs": [
    {
     "name": "stdout",
     "output_type": "stream",
     "text": [
      "Top Recommended Foods for Skin Cancer\n",
      "1. Tea, herb and laborador combination (Alaska Native), tundra\n",
      "2. Tea, Hohoysi (Hopi), brewed, herbal\n",
      "3. CAMPBELL'S Low Sodium Soups, Chicken Broth\n",
      "4. SWANSON BROTH, Certified Organic Vegetable Broth\n",
      "5. Soup, SWANSON Chicken Broth 99% Fat Free\n",
      "6. Soup, ready to serve, vegetable broth\n",
      "7. Soup, ready to serve, less/reduced sodium, beef broth\n",
      "8. Soup, lower sodium, beef broth, SWANSON\n",
      "9. Soup, vegetable broth, SWANSON\n",
      "10. Butterbur, canned\n"
     ]
    }
   ],
   "source": [
    "print(\"Top Recommended Foods for\", selected_disease)\n",
    "for i, idx in enumerate(filtered_top_food_indices[:10]):  \n",
    "    food_name = food_data.loc[idx, 'name']\n",
    "    print(f\"{i+1}. {food_name}\")"
   ]
  },
  {
   "cell_type": "code",
   "execution_count": 8,
   "id": "6949ea23",
   "metadata": {},
   "outputs": [],
   "source": [
    "import pandas as pd\n",
    "import numpy as np\n",
    "food_data = pd.read_csv('preprocessed_food.csv')\n",
    "disease_data = pd.read_csv('preprocessed_disease.csv')\n"
   ]
  },
  {
   "cell_type": "code",
   "execution_count": 9,
   "id": "ebc1f9bd",
   "metadata": {},
   "outputs": [
    {
     "name": "stdout",
     "output_type": "stream",
     "text": [
      "Enter the disease name: Hypertension\n",
      "Top Recommended Foods for Hypertension\n",
      "1. Tea, herb and laborador combination (Alaska Native), tundra\n",
      "2. Tea, Hohoysi (Hopi), brewed, herbal\n",
      "3. SWANSON BROTH, Certified Organic Vegetable Broth\n",
      "4. CAMPBELL'S Low Sodium Soups, Chicken Broth\n",
      "5. Soup, ready to serve, vegetable broth\n",
      "6. Soup, SWANSON Chicken Broth 99% Fat Free\n",
      "7. Soup, ready to serve, less/reduced sodium, beef broth\n",
      "8. Soup, lower sodium, beef broth, SWANSON\n",
      "9. Soup, vegetable broth, SWANSON\n",
      "10. Butterbur, canned\n",
      "11. Soup, ready-to-serve, chicken broth\n",
      "12. Gravy, au jus, CAMPBELL'S\n",
      "13. Mollusks, liquid, canned, mixed species, clam\n",
      "14. Soup, ready-to-serve, beef broth or bouillon canned\n",
      "15. Soup, ready to serve, less/reduced sodium, chicken broth\n",
      "16. Pectin, liquid\n",
      "17. Cucumber, raw, peeled\n",
      "18. Butterbur, with salt, drained, boiled, cooked\n",
      "19. Butterbur, without salt, drained, boiled, cooked\n",
      "20. Soup, home-prepared, fish, stock\n",
      "21. Fluid replacement, electrolyte solution (include PEDIALYTE)\n",
      "22. Squash, boiled (Navajo), cooked, Indian\n",
      "23. Cabbage, cooked, napa\n",
      "24. Waxgourd, raw, (chinese preserving melon)\n",
      "25. Waxgourd, without salt, drained, boiled, cooked, (chinese preserving melon)\n",
      "26. Squash, without salt, solid, drained, canned, crookneck and straightneck, summer\n",
      "27. Beans, drained solids, canned, sprouted, mature seeds, mung\n",
      "28. Waxgourd, with salt, drained, boiled, cooked, (chinese preserving melon)\n",
      "29. Soup, canned, low sodium, chicken broth\n",
      "30. Bamboo shoots, without salt, drained, boiled, cooked\n",
      "\n",
      "Not Recommended Foods for Hypertension\n",
      "1. Fish oil, fully hydrogenated, menhaden\n",
      "2. Oil, fully hydrogenated, soy, industrial\n",
      "3. Oil, fully hydrogenated, cottonseed, industrial\n",
      "4. Oil, uses similar to 95 degree hard butter, confection fat, palm kernel (hydrogenated), industrial\n",
      "5. Oil, used for whipped toppings and coffee whiteners, coconut (hydrogenated), industrial\n",
      "6. Oil, intermediate grade product, confection fat, palm kernel (hydrogenated), industrial\n",
      "7. Shortening confectionery, coconut (hydrogenated) and or palm kernel (hydrogenated)\n",
      "8. Oil, nutmeg butter\n",
      "9. Oil, non-dairy, used for whipped toppings, palm kernel (hydrogenated) , industrial\n",
      "10. Oil, filling fat, palm kernel (hydrogenated), industrial\n",
      "11. Oil, uses similar to high quality cocoa butter, confection fat, palm kernel, industrial\n",
      "12. Oil, typical basis for ice cream coatings, confection fat, coconut, industrial\n",
      "13. Oil, roasting nuts, oil sprays, principal uses candy coatings, coconut, industrial\n",
      "14. Oil, ucuhuba butter\n",
      "15. Vegetable oil, palm kernel\n",
      "16. Oil, babassu\n",
      "17. Oil, coconut\n",
      "18. Oil, filling fat (non-hydrogenated), palm and palm kernel, industrial\n",
      "19. Shortening, fractionated palm, confectionery\n",
      "20. Oil, cocoa butter\n",
      "21. Butter oil, anhydrous\n",
      "22. Oil, cupu assu\n",
      "23. Oil, high oleic (70% and over), sunflower\n",
      "24. Fat, beef tallow\n",
      "25. Oil, (over 70%), linoleic, salad or cooking, safflower\n",
      "26. Oil, palm\n",
      "27. Oil, sheanut\n",
      "28. Shortening frying (heavy duty), palm (hydrogenated)\n",
      "29. Fat, mutton tallow\n",
      "30. Shortening frying (heavy duty), linoleic (less than 1%), soybean (hydrogenated)\n"
     ]
    }
   ],
   "source": [
    "selected_disease = input(\"Enter the disease name: \")\n",
    "disease_limits = disease_data[disease_data['disease_name'] == selected_disease].iloc[:, 1:].values\n",
    "nutrient_columns = food_data.columns[1:]\n",
    "food_nutrition = food_data[nutrient_columns].values\n",
    "distance = food_nutrition - disease_limits\n",
    "\n",
    "food_scores = np.sqrt((distance ** 2).sum(axis=1))\n",
    "excluded_food_indices = food_data[food_data['name'].str.contains(\"babyfood\", case=False)].index\n",
    "not_recommended_food_indices = np.argsort(food_scores) \n",
    "filtered_not_recommended_food_indices = [idx for idx in not_recommended_food_indices if idx not in excluded_food_indices]\n",
    "\n",
    "\n",
    "print(\"Top Recommended Foods for\", selected_disease)\n",
    "for i, idx in enumerate(filtered_not_recommended_food_indices[:30]):\n",
    "    food_name = food_data.loc[idx, 'name']\n",
    "    print(f\"{i+1}. {food_name}\")\n",
    "    \n",
    "print(\"\\nNot Recommended Foods for\", selected_disease)\n",
    "for i, idx in enumerate(filtered_not_recommended_food_indices[-30:][::-1]):\n",
    "    food_name = food_data.loc[idx, 'name']\n",
    "    print(f\"{i+1}. {food_name}\")\n"
   ]
  },
  {
   "cell_type": "code",
   "execution_count": 10,
   "id": "6db2ef4f",
   "metadata": {},
   "outputs": [],
   "source": [
    "import numpy as np\n",
    "import pandas as pd\n",
    "from sklearn.model_selection import train_test_split\n",
    "from sklearn.linear_model import LinearRegression"
   ]
  },
  {
   "cell_type": "code",
   "execution_count": 11,
   "id": "a4edad31",
   "metadata": {},
   "outputs": [],
   "source": [
    "food_data = pd.read_csv('preprocessed_food.csv')\n",
    "disease_data = pd.read_csv('preprocessed_disease.csv')"
   ]
  },
  {
   "cell_type": "code",
   "execution_count": 13,
   "id": "b988b6db",
   "metadata": {},
   "outputs": [
    {
     "data": {
      "text/plain": [
       "0"
      ]
     },
     "execution_count": 13,
     "metadata": {},
     "output_type": "execute_result"
    }
   ],
   "source": [
    "food_data.duplicated().sum()"
   ]
  },
  {
   "cell_type": "code",
   "execution_count": 3,
   "id": "75dc650b",
   "metadata": {},
   "outputs": [
    {
     "name": "stdout",
     "output_type": "stream",
     "text": [
      "Enter the disease name: Hypertension\n"
     ]
    }
   ],
   "source": [
    "selected_disease = input(\"Enter the disease name: \")\n",
    "\n",
    "disease_limits = disease_data[disease_data['disease_name'] == selected_disease].iloc[:, 1:].values\n",
    "\n",
    "nutrient_columns = food_data.columns[1:]\n",
    "food_nutrition = food_data[nutrient_columns].values\n",
    "\n",
    "distance = disease_limits - food_nutrition\n",
    "\n",
    "distance_magnitude = np.linalg.norm(distance, axis=1)\n",
    "\n",
    "food_distance_df = pd.DataFrame({'Food': food_data['name'], 'Distance': distance_magnitude})\n",
    "\n",
    "X = food_nutrition\n",
    "y = distance_magnitude\n"
   ]
  },
  {
   "cell_type": "code",
   "execution_count": 4,
   "id": "0d309952",
   "metadata": {},
   "outputs": [],
   "source": [
    "X_train, X_test, y_train, y_test = train_test_split(X, y, test_size=0.2, random_state=42)"
   ]
  },
  {
   "cell_type": "code",
   "execution_count": 5,
   "id": "b3e6f364",
   "metadata": {},
   "outputs": [
    {
     "data": {
      "text/html": [
       "<style>#sk-container-id-1 {color: black;}#sk-container-id-1 pre{padding: 0;}#sk-container-id-1 div.sk-toggleable {background-color: white;}#sk-container-id-1 label.sk-toggleable__label {cursor: pointer;display: block;width: 100%;margin-bottom: 0;padding: 0.3em;box-sizing: border-box;text-align: center;}#sk-container-id-1 label.sk-toggleable__label-arrow:before {content: \"▸\";float: left;margin-right: 0.25em;color: #696969;}#sk-container-id-1 label.sk-toggleable__label-arrow:hover:before {color: black;}#sk-container-id-1 div.sk-estimator:hover label.sk-toggleable__label-arrow:before {color: black;}#sk-container-id-1 div.sk-toggleable__content {max-height: 0;max-width: 0;overflow: hidden;text-align: left;background-color: #f0f8ff;}#sk-container-id-1 div.sk-toggleable__content pre {margin: 0.2em;color: black;border-radius: 0.25em;background-color: #f0f8ff;}#sk-container-id-1 input.sk-toggleable__control:checked~div.sk-toggleable__content {max-height: 200px;max-width: 100%;overflow: auto;}#sk-container-id-1 input.sk-toggleable__control:checked~label.sk-toggleable__label-arrow:before {content: \"▾\";}#sk-container-id-1 div.sk-estimator input.sk-toggleable__control:checked~label.sk-toggleable__label {background-color: #d4ebff;}#sk-container-id-1 div.sk-label input.sk-toggleable__control:checked~label.sk-toggleable__label {background-color: #d4ebff;}#sk-container-id-1 input.sk-hidden--visually {border: 0;clip: rect(1px 1px 1px 1px);clip: rect(1px, 1px, 1px, 1px);height: 1px;margin: -1px;overflow: hidden;padding: 0;position: absolute;width: 1px;}#sk-container-id-1 div.sk-estimator {font-family: monospace;background-color: #f0f8ff;border: 1px dotted black;border-radius: 0.25em;box-sizing: border-box;margin-bottom: 0.5em;}#sk-container-id-1 div.sk-estimator:hover {background-color: #d4ebff;}#sk-container-id-1 div.sk-parallel-item::after {content: \"\";width: 100%;border-bottom: 1px solid gray;flex-grow: 1;}#sk-container-id-1 div.sk-label:hover label.sk-toggleable__label {background-color: #d4ebff;}#sk-container-id-1 div.sk-serial::before {content: \"\";position: absolute;border-left: 1px solid gray;box-sizing: border-box;top: 0;bottom: 0;left: 50%;z-index: 0;}#sk-container-id-1 div.sk-serial {display: flex;flex-direction: column;align-items: center;background-color: white;padding-right: 0.2em;padding-left: 0.2em;position: relative;}#sk-container-id-1 div.sk-item {position: relative;z-index: 1;}#sk-container-id-1 div.sk-parallel {display: flex;align-items: stretch;justify-content: center;background-color: white;position: relative;}#sk-container-id-1 div.sk-item::before, #sk-container-id-1 div.sk-parallel-item::before {content: \"\";position: absolute;border-left: 1px solid gray;box-sizing: border-box;top: 0;bottom: 0;left: 50%;z-index: -1;}#sk-container-id-1 div.sk-parallel-item {display: flex;flex-direction: column;z-index: 1;position: relative;background-color: white;}#sk-container-id-1 div.sk-parallel-item:first-child::after {align-self: flex-end;width: 50%;}#sk-container-id-1 div.sk-parallel-item:last-child::after {align-self: flex-start;width: 50%;}#sk-container-id-1 div.sk-parallel-item:only-child::after {width: 0;}#sk-container-id-1 div.sk-dashed-wrapped {border: 1px dashed gray;margin: 0 0.4em 0.5em 0.4em;box-sizing: border-box;padding-bottom: 0.4em;background-color: white;}#sk-container-id-1 div.sk-label label {font-family: monospace;font-weight: bold;display: inline-block;line-height: 1.2em;}#sk-container-id-1 div.sk-label-container {text-align: center;}#sk-container-id-1 div.sk-container {/* jupyter's `normalize.less` sets `[hidden] { display: none; }` but bootstrap.min.css set `[hidden] { display: none !important; }` so we also need the `!important` here to be able to override the default hidden behavior on the sphinx rendered scikit-learn.org. See: https://github.com/scikit-learn/scikit-learn/issues/21755 */display: inline-block !important;position: relative;}#sk-container-id-1 div.sk-text-repr-fallback {display: none;}</style><div id=\"sk-container-id-1\" class=\"sk-top-container\"><div class=\"sk-text-repr-fallback\"><pre>LinearRegression()</pre><b>In a Jupyter environment, please rerun this cell to show the HTML representation or trust the notebook. <br />On GitHub, the HTML representation is unable to render, please try loading this page with nbviewer.org.</b></div><div class=\"sk-container\" hidden><div class=\"sk-item\"><div class=\"sk-estimator sk-toggleable\"><input class=\"sk-toggleable__control sk-hidden--visually\" id=\"sk-estimator-id-1\" type=\"checkbox\" checked><label for=\"sk-estimator-id-1\" class=\"sk-toggleable__label sk-toggleable__label-arrow\">LinearRegression</label><div class=\"sk-toggleable__content\"><pre>LinearRegression()</pre></div></div></div></div></div>"
      ],
      "text/plain": [
       "LinearRegression()"
      ]
     },
     "execution_count": 5,
     "metadata": {},
     "output_type": "execute_result"
    }
   ],
   "source": [
    "model = LinearRegression()\n",
    "model.fit(X_train, y_train)"
   ]
  },
  {
   "cell_type": "code",
   "execution_count": 6,
   "id": "d0fc5ba6",
   "metadata": {},
   "outputs": [],
   "source": [
    "predicted_distances = model.predict(food_nutrition)"
   ]
  },
  {
   "cell_type": "code",
   "execution_count": 8,
   "id": "7457806d",
   "metadata": {
    "scrolled": true
   },
   "outputs": [
    {
     "name": "stdout",
     "output_type": "stream",
     "text": [
      "Top Recommended Foods for Hypertension\n",
      "1. Tea, herb and laborador combination (Alaska Native), tundra\n",
      "2. Tea, Hohoysi (Hopi), brewed, herbal\n",
      "3. SWANSON BROTH, Certified Organic Vegetable Broth\n",
      "4. Soup, SWANSON Chicken Broth 99% Fat Free\n",
      "5. CAMPBELL'S Low Sodium Soups, Chicken Broth\n",
      "6. Soup, ready to serve, vegetable broth\n",
      "7. Soup, ready to serve, less/reduced sodium, beef broth\n",
      "8. Soup, lower sodium, beef broth, SWANSON\n",
      "9. Soup, vegetable broth, SWANSON\n",
      "10. Soup, ready-to-serve, chicken broth\n"
     ]
    }
   ],
   "source": [
    "top_n = 10\n",
    "recommended_food_indices = np.argsort(predicted_distances)[:top_n]\n",
    "\n",
    "print(\"Top Recommended Foods for\", selected_disease)\n",
    "for i, idx in enumerate(recommended_food_indices):\n",
    "    food_name = food_data.loc[idx, 'name']\n",
    "    print(f\"{i+1}. {food_name}\")"
   ]
  },
  {
   "cell_type": "code",
   "execution_count": null,
   "id": "77915aa0",
   "metadata": {},
   "outputs": [],
   "source": []
  }
 ],
 "metadata": {
  "kernelspec": {
   "display_name": "Python 3 (ipykernel)",
   "language": "python",
   "name": "python3"
  },
  "language_info": {
   "codemirror_mode": {
    "name": "ipython",
    "version": 3
   },
   "file_extension": ".py",
   "mimetype": "text/x-python",
   "name": "python",
   "nbconvert_exporter": "python",
   "pygments_lexer": "ipython3",
   "version": "3.10.4"
  }
 },
 "nbformat": 4,
 "nbformat_minor": 5
}
