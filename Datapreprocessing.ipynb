{
 "cells": [
  {
   "cell_type": "code",
   "execution_count": 5,
   "id": "1f162fc6",
   "metadata": {},
   "outputs": [],
   "source": [
    "import pandas as pd\n",
    "\n",
    "food_data = pd.read_csv('nutrition.csv')"
   ]
  },
  {
   "cell_type": "code",
   "execution_count": 7,
   "id": "b44567f0",
   "metadata": {
    "scrolled": true
   },
   "outputs": [
    {
     "name": "stdout",
     "output_type": "stream",
     "text": [
      "Index(['Unnamed: 0', 'name', 'serving_size', 'calories', 'total_fat',\n",
      "       'saturated_fat', 'cholesterol', 'sodium', 'choline', 'folate',\n",
      "       'folic_acid', 'niacin', 'pantothenic_acid', 'riboflavin', 'thiamin',\n",
      "       'vitamin_a', 'vitamin_a_rae', 'carotene_alpha', 'carotene_beta',\n",
      "       'cryptoxanthin_beta', 'lutein_zeaxanthin', 'lucopene', 'vitamin_b12',\n",
      "       'vitamin_b6', 'vitamin_c', 'vitamin_d', 'vitamin_e', 'tocopherol_alpha',\n",
      "       'vitamin_k', 'calcium', 'copper', 'irom', 'magnesium', 'manganese',\n",
      "       'phosphorous', 'potassium', 'selenium', 'zink', 'protein', 'alanine',\n",
      "       'arginine', 'aspartic_acid', 'cystine', 'glutamic_acid', 'glycine',\n",
      "       'histidine', 'hydroxyproline', 'isoleucine', 'leucine', 'lysine',\n",
      "       'methionine', 'phenylalanine', 'proline', 'serine', 'threonine',\n",
      "       'tryptophan', 'tyrosine', 'valine', 'carbohydrate', 'fiber', 'sugars',\n",
      "       'fructose', 'galactose', 'glucose', 'lactose', 'maltose', 'sucrose',\n",
      "       'fat', 'saturated_fatty_acids', 'monounsaturated_fatty_acids',\n",
      "       'polyunsaturated_fatty_acids', 'fatty_acids_total_trans', 'alcohol',\n",
      "       'ash', 'caffeine', 'theobromine', 'water'],\n",
      "      dtype='object')\n"
     ]
    }
   ],
   "source": [
    "print(food_data.columns)"
   ]
  },
  {
   "cell_type": "code",
   "execution_count": 75,
   "id": "0b056e7d",
   "metadata": {},
   "outputs": [
    {
     "name": "stdout",
     "output_type": "stream",
     "text": [
      "Preprocessed data saved to 'preprocessed_food.csv'\n"
     ]
    }
   ],
   "source": [
    "import pandas as pd\n",
    "\n",
    "food_data = pd.read_csv('nutrition.csv')\n",
    "\n",
    "columns_to_keep = [\n",
    "    'name', 'total_fat',\n",
    "       'saturated_fat', 'cholesterol', 'sodium', 'choline', 'folate',\n",
    "       'folic_acid', 'niacin', 'pantothenic_acid', 'riboflavin', 'thiamin',\n",
    "       'vitamin_a', 'vitamin_a_rae', 'carotene_alpha', 'carotene_beta',\n",
    "       'cryptoxanthin_beta', 'lutein_zeaxanthin', 'lucopene', 'vitamin_b12',\n",
    "       'vitamin_b6', 'vitamin_c', 'vitamin_d', 'vitamin_e', 'tocopherol_alpha',\n",
    "       'vitamin_k', 'calcium', 'copper', 'irom', 'magnesium', 'manganese',\n",
    "       'phosphorous', 'potassium', 'selenium', 'zink', 'protein', 'alanine',\n",
    "       'arginine', 'aspartic_acid', 'cystine', 'glutamic_acid', 'glycine',\n",
    "       'histidine', 'hydroxyproline', 'isoleucine', 'leucine', 'lysine',\n",
    "       'methionine', 'phenylalanine', 'proline', 'serine', 'threonine',\n",
    "       'tryptophan', 'tyrosine', 'valine', 'carbohydrate', 'fiber', 'sugars',\n",
    "       'fructose', 'galactose', 'glucose', 'lactose', 'maltose', 'sucrose',\n",
    "       'fat', 'saturated_fatty_acids', 'monounsaturated_fatty_acids',\n",
    "       'polyunsaturated_fatty_acids', 'fatty_acids_total_trans', 'alcohol',\n",
    "       'ash', 'caffeine', 'theobromine', 'water'\n",
    "]\n",
    "\n",
    "\n",
    "preprocessed_data = food_data[columns_to_keep]\n",
    "\n",
    "preprocessed_data.to_csv('preprocessed_food.csv', index=False)\n",
    "\n",
    "print(\"Preprocessed data saved to 'preprocessed_food.csv'\")"
   ]
  },
  {
   "cell_type": "code",
   "execution_count": 76,
   "id": "658285ac",
   "metadata": {},
   "outputs": [],
   "source": [
    "import pandas as pd\n",
    "\n",
    "food_data = pd.read_csv('preprocessed_food.csv')"
   ]
  },
  {
   "cell_type": "code",
   "execution_count": 77,
   "id": "9360a210",
   "metadata": {},
   "outputs": [
    {
     "name": "stdout",
     "output_type": "stream",
     "text": [
      "Index(['name', 'total_fat', 'saturated_fat', 'cholesterol', 'sodium',\n",
      "       'choline', 'folate', 'folic_acid', 'niacin', 'pantothenic_acid',\n",
      "       'riboflavin', 'thiamin', 'vitamin_a', 'vitamin_a_rae', 'carotene_alpha',\n",
      "       'carotene_beta', 'cryptoxanthin_beta', 'lutein_zeaxanthin', 'lucopene',\n",
      "       'vitamin_b12', 'vitamin_b6', 'vitamin_c', 'vitamin_d', 'vitamin_e',\n",
      "       'tocopherol_alpha', 'vitamin_k', 'calcium', 'copper', 'irom',\n",
      "       'magnesium', 'manganese', 'phosphorous', 'potassium', 'selenium',\n",
      "       'zink', 'protein', 'alanine', 'arginine', 'aspartic_acid', 'cystine',\n",
      "       'glutamic_acid', 'glycine', 'histidine', 'hydroxyproline', 'isoleucine',\n",
      "       'leucine', 'lysine', 'methionine', 'phenylalanine', 'proline', 'serine',\n",
      "       'threonine', 'tryptophan', 'tyrosine', 'valine', 'carbohydrate',\n",
      "       'fiber', 'sugars', 'fructose', 'galactose', 'glucose', 'lactose',\n",
      "       'maltose', 'sucrose', 'fat', 'saturated_fatty_acids',\n",
      "       'monounsaturated_fatty_acids', 'polyunsaturated_fatty_acids',\n",
      "       'fatty_acids_total_trans', 'alcohol', 'ash', 'caffeine', 'theobromine',\n",
      "       'water'],\n",
      "      dtype='object')\n"
     ]
    }
   ],
   "source": [
    "print(food_data.columns)"
   ]
  },
  {
   "cell_type": "code",
   "execution_count": 17,
   "id": "3803fd35",
   "metadata": {},
   "outputs": [],
   "source": [
    "import pandas as pd\n",
    "\n",
    "disease_data = pd.read_csv('disease.csv')"
   ]
  },
  {
   "cell_type": "code",
   "execution_count": 18,
   "id": "28cc565e",
   "metadata": {},
   "outputs": [
    {
     "name": "stdout",
     "output_type": "stream",
     "text": [
      "Index(['disease_name', 'total_fat', 'saturated_fat', 'cholesterol', 'sodium',\n",
      "       'choline', 'folate', 'folic_acid', 'niacin', 'pantothenic_acid',\n",
      "       'riboflavin', 'thiamin', 'vitamin_a', 'vitamin_a_rae', 'carotene_alpha',\n",
      "       'carotene_beta', 'cryptoxanthin_beta', 'lutein_zeaxanthin', 'lucopene',\n",
      "       'vitamin_b12', 'vitamin_b6', 'vitamin_c', 'vitamin_d', 'vitamin_e',\n",
      "       'tocopherol_alpha', 'vitamin_k', 'calcium', 'copper', 'irom',\n",
      "       'magnesium', 'manganese', 'phosphorous', 'potassium', 'selenium',\n",
      "       'zink', 'protein', 'alanine', 'arginine', 'aspartic_acid', 'cystine',\n",
      "       'glutamic_acid', 'glycine', 'histidine', 'hydroxyproline', 'isoleucine',\n",
      "       'leucine', 'lysine', 'methionine', 'phenylalanine', 'proline', 'serine',\n",
      "       'threonine', 'tryptophan', 'tyrosine', 'valine', 'carbohydrate',\n",
      "       'fiber', 'sugars', 'fructose', 'galactose', 'glucose', 'lactose',\n",
      "       'maltose', 'sucrose', 'fat', 'saturated_fatty_acids',\n",
      "       'monounsaturated_fatty_acids', 'polyunsaturated_fatty_acids',\n",
      "       'fatty_acids_total_trans', 'alcohol', 'ash', 'caffeine', 'theobromine',\n",
      "       'water'],\n",
      "      dtype='object')\n"
     ]
    }
   ],
   "source": [
    "print(disease_data.columns)"
   ]
  },
  {
   "cell_type": "code",
   "execution_count": 30,
   "id": "41155c15",
   "metadata": {},
   "outputs": [],
   "source": [
    "import pandas as pd\n",
    "from sklearn.metrics.pairwise import cosine_similarity"
   ]
  },
  {
   "cell_type": "code",
   "execution_count": 31,
   "id": "288ca933",
   "metadata": {},
   "outputs": [],
   "source": [
    "food_data = pd.read_csv('preprocessed_food.csv')\n",
    "disease_data = pd.read_csv('disease.csv')"
   ]
  },
  {
   "cell_type": "code",
   "execution_count": 32,
   "id": "632f374e",
   "metadata": {},
   "outputs": [],
   "source": [
    "selected_disease = 'Hypertension'"
   ]
  },
  {
   "cell_type": "code",
   "execution_count": 33,
   "id": "ce38208f",
   "metadata": {},
   "outputs": [],
   "source": [
    "disease_nutrition = disease_data[disease_data['disease_name'] == selected_disease].iloc[:, 1:].values"
   ]
  },
  {
   "cell_type": "code",
   "execution_count": 34,
   "id": "f7aab1e4",
   "metadata": {},
   "outputs": [],
   "source": [
    "food_nutrition = food_data.iloc[:, 2:].values"
   ]
  },
  {
   "cell_type": "code",
   "execution_count": 53,
   "id": "a44ae745",
   "metadata": {},
   "outputs": [],
   "source": [
    "import pandas as pd"
   ]
  },
  {
   "cell_type": "code",
   "execution_count": 79,
   "id": "d07a14ad",
   "metadata": {},
   "outputs": [],
   "source": [
    "food_data = pd.read_csv('preprocessed_food.csv')"
   ]
  },
  {
   "cell_type": "code",
   "execution_count": 80,
   "id": "8752bde2",
   "metadata": {},
   "outputs": [],
   "source": [
    "nutrient_columns = [\n",
    "    'total_fat', 'saturated_fat', 'cholesterol', 'sodium',\n",
    "       'choline', 'folate', 'folic_acid', 'niacin', 'pantothenic_acid',\n",
    "       'riboflavin', 'thiamin', 'vitamin_a', 'vitamin_a_rae', 'carotene_alpha',\n",
    "       'carotene_beta', 'cryptoxanthin_beta', 'lutein_zeaxanthin', 'lucopene',\n",
    "       'vitamin_b12', 'vitamin_b6', 'vitamin_c', 'vitamin_d', 'vitamin_e',\n",
    "       'tocopherol_alpha', 'vitamin_k', 'calcium', 'copper', 'irom',\n",
    "       'magnesium', 'manganese', 'phosphorous', 'potassium', 'selenium',\n",
    "       'zink', 'protein', 'alanine', 'arginine', 'aspartic_acid', 'cystine',\n",
    "       'glutamic_acid', 'glycine', 'histidine', 'hydroxyproline', 'isoleucine',\n",
    "       'leucine', 'lysine', 'methionine', 'phenylalanine', 'proline', 'serine',\n",
    "       'threonine', 'tryptophan', 'tyrosine', 'valine', 'carbohydrate',\n",
    "       'fiber', 'sugars', 'fructose', 'galactose', 'glucose', 'lactose',\n",
    "       'maltose', 'sucrose', 'fat', 'saturated_fatty_acids',\n",
    "       'monounsaturated_fatty_acids', 'polyunsaturated_fatty_acids',\n",
    "       'fatty_acids_total_trans', 'alcohol', 'ash', 'caffeine', 'theobromine',\n",
    "       'water'\n",
    "    \n",
    "]\n"
   ]
  },
  {
   "cell_type": "code",
   "execution_count": 81,
   "id": "ef6025d7",
   "metadata": {},
   "outputs": [],
   "source": [
    "def convert_to_numeric(value):\n",
    "    if isinstance(value, str) and 'g' in value:\n",
    "        try:\n",
    "            return float(value[:-1]) * 1000\n",
    "        except ValueError:\n",
    "            pass\n",
    "    return value"
   ]
  },
  {
   "cell_type": "code",
   "execution_count": 82,
   "id": "b2ef054e",
   "metadata": {},
   "outputs": [],
   "source": [
    "for nutrient in nutrient_columns:\n",
    "    food_data[nutrient] = food_data[nutrient].apply(convert_to_numeric)"
   ]
  },
  {
   "cell_type": "code",
   "execution_count": 83,
   "id": "b5d7d08a",
   "metadata": {},
   "outputs": [],
   "source": [
    "preprocessed_file = 'preprocessed_food.csv'\n",
    "food_data.to_csv(preprocessed_file, index=False)"
   ]
  },
  {
   "cell_type": "code",
   "execution_count": 84,
   "id": "938297a4",
   "metadata": {},
   "outputs": [],
   "source": [
    "import pandas as pd\n",
    "\n",
    "food_data = pd.read_csv('preprocessed_food.csv')\n"
   ]
  },
  {
   "cell_type": "code",
   "execution_count": 85,
   "id": "e1aacbc7",
   "metadata": {},
   "outputs": [],
   "source": [
    "nutrient_columns = [\n",
    "    'total_fat', 'saturated_fat', 'cholesterol', 'sodium',\n",
    "       'choline', 'folate', 'folic_acid', 'niacin', 'pantothenic_acid',\n",
    "       'riboflavin', 'thiamin', 'vitamin_a', 'vitamin_a_rae', 'carotene_alpha',\n",
    "       'carotene_beta', 'cryptoxanthin_beta', 'lutein_zeaxanthin', 'lucopene',\n",
    "       'vitamin_b12', 'vitamin_b6', 'vitamin_c', 'vitamin_d', 'vitamin_e',\n",
    "       'tocopherol_alpha', 'vitamin_k', 'calcium', 'copper', 'irom',\n",
    "       'magnesium', 'manganese', 'phosphorous', 'potassium', 'selenium',\n",
    "       'zink', 'protein', 'alanine', 'arginine', 'aspartic_acid', 'cystine',\n",
    "       'glutamic_acid', 'glycine', 'histidine', 'hydroxyproline', 'isoleucine',\n",
    "       'leucine', 'lysine', 'methionine', 'phenylalanine', 'proline', 'serine',\n",
    "       'threonine', 'tryptophan', 'tyrosine', 'valine', 'carbohydrate',\n",
    "       'fiber', 'sugars', 'fructose', 'galactose', 'glucose', 'lactose',\n",
    "       'maltose', 'sucrose', 'fat', 'saturated_fatty_acids',\n",
    "       'monounsaturated_fatty_acids', 'polyunsaturated_fatty_acids',\n",
    "       'fatty_acids_total_trans', 'alcohol', 'ash', 'caffeine', 'theobromine',\n",
    "       'water'\n",
    "    \n",
    "]"
   ]
  },
  {
   "cell_type": "code",
   "execution_count": 86,
   "id": "66955af0",
   "metadata": {},
   "outputs": [],
   "source": [
    "def remove_mg(value):\n",
    "    if isinstance(value, str) and 'mg' in value:\n",
    "        try:\n",
    "            return float(value.replace('mg', ''))\n",
    "        except ValueError:\n",
    "            pass\n",
    "    return value"
   ]
  },
  {
   "cell_type": "code",
   "execution_count": 87,
   "id": "72014bc9",
   "metadata": {},
   "outputs": [],
   "source": [
    "for nutrient in nutrient_columns:\n",
    "    food_data[nutrient] = food_data[nutrient].apply(remove_mg)"
   ]
  },
  {
   "cell_type": "code",
   "execution_count": 88,
   "id": "a038c0c7",
   "metadata": {},
   "outputs": [],
   "source": [
    "preprocessed_file = 'preprocessed_food.csv'\n",
    "food_data.to_csv(preprocessed_file, index=False)"
   ]
  },
  {
   "cell_type": "code",
   "execution_count": 89,
   "id": "7acb0edc",
   "metadata": {},
   "outputs": [],
   "source": [
    "import pandas as pd\n",
    "\n",
    "food_data = pd.read_csv('preprocessed_food.csv')\n"
   ]
  },
  {
   "cell_type": "code",
   "execution_count": 90,
   "id": "b3998899",
   "metadata": {},
   "outputs": [],
   "source": [
    "nutrient_columns = [\n",
    "    'total_fat', 'saturated_fat', 'cholesterol', 'sodium',\n",
    "       'choline', 'folate', 'folic_acid', 'niacin', 'pantothenic_acid',\n",
    "       'riboflavin', 'thiamin', 'vitamin_a', 'vitamin_a_rae', 'carotene_alpha',\n",
    "       'carotene_beta', 'cryptoxanthin_beta', 'lutein_zeaxanthin', 'lucopene',\n",
    "       'vitamin_b12', 'vitamin_b6', 'vitamin_c', 'vitamin_d', 'vitamin_e',\n",
    "       'tocopherol_alpha', 'vitamin_k', 'calcium', 'copper', 'irom',\n",
    "       'magnesium', 'manganese', 'phosphorous', 'potassium', 'selenium',\n",
    "       'zink', 'protein', 'alanine', 'arginine', 'aspartic_acid', 'cystine',\n",
    "       'glutamic_acid', 'glycine', 'histidine', 'hydroxyproline', 'isoleucine',\n",
    "       'leucine', 'lysine', 'methionine', 'phenylalanine', 'proline', 'serine',\n",
    "       'threonine', 'tryptophan', 'tyrosine', 'valine', 'carbohydrate',\n",
    "       'fiber', 'sugars', 'fructose', 'galactose', 'glucose', 'lactose',\n",
    "       'maltose', 'sucrose', 'fat', 'saturated_fatty_acids',\n",
    "       'monounsaturated_fatty_acids', 'polyunsaturated_fatty_acids',\n",
    "       'fatty_acids_total_trans', 'alcohol', 'ash', 'caffeine', 'theobromine',\n",
    "       'water'\n",
    "    \n",
    "]"
   ]
  },
  {
   "cell_type": "code",
   "execution_count": 91,
   "id": "cd7bcf1c",
   "metadata": {},
   "outputs": [],
   "source": [
    "def preprocess_mcg(value):\n",
    "    if isinstance(value, str) and 'mcg' in value:\n",
    "        try:\n",
    "            return float(value.replace('mcg', '')) * 0.001\n",
    "        except ValueError:\n",
    "            pass\n",
    "    return value"
   ]
  },
  {
   "cell_type": "code",
   "execution_count": 92,
   "id": "376bc09f",
   "metadata": {},
   "outputs": [],
   "source": [
    "for nutrient in nutrient_columns:\n",
    "    food_data[nutrient] = food_data[nutrient].apply(preprocess_mcg)"
   ]
  },
  {
   "cell_type": "code",
   "execution_count": 93,
   "id": "3c9864a7",
   "metadata": {},
   "outputs": [],
   "source": [
    "preprocessed_file = 'preprocessed_food.csv'\n",
    "food_data.to_csv(preprocessed_file, index=False)"
   ]
  },
  {
   "cell_type": "code",
   "execution_count": 94,
   "id": "a02560ac",
   "metadata": {},
   "outputs": [],
   "source": [
    "import pandas as pd\n",
    "\n",
    "food_data = pd.read_csv('preprocessed_food.csv')"
   ]
  },
  {
   "cell_type": "code",
   "execution_count": 95,
   "id": "8427b357",
   "metadata": {},
   "outputs": [],
   "source": [
    "nutrient_columns = [\n",
    "    'total_fat', 'saturated_fat', 'cholesterol', 'sodium',\n",
    "       'choline', 'folate', 'folic_acid', 'niacin', 'pantothenic_acid',\n",
    "       'riboflavin', 'thiamin', 'vitamin_a', 'vitamin_a_rae', 'carotene_alpha',\n",
    "       'carotene_beta', 'cryptoxanthin_beta', 'lutein_zeaxanthin', 'lucopene',\n",
    "       'vitamin_b12', 'vitamin_b6', 'vitamin_c', 'vitamin_d', 'vitamin_e',\n",
    "       'tocopherol_alpha', 'vitamin_k', 'calcium', 'copper', 'irom',\n",
    "       'magnesium', 'manganese', 'phosphorous', 'potassium', 'selenium',\n",
    "       'zink', 'protein', 'alanine', 'arginine', 'aspartic_acid', 'cystine',\n",
    "       'glutamic_acid', 'glycine', 'histidine', 'hydroxyproline', 'isoleucine',\n",
    "       'leucine', 'lysine', 'methionine', 'phenylalanine', 'proline', 'serine',\n",
    "       'threonine', 'tryptophan', 'tyrosine', 'valine', 'carbohydrate',\n",
    "       'fiber', 'sugars', 'fructose', 'galactose', 'glucose', 'lactose',\n",
    "       'maltose', 'sucrose', 'fat', 'saturated_fatty_acids',\n",
    "       'monounsaturated_fatty_acids', 'polyunsaturated_fatty_acids',\n",
    "       'fatty_acids_total_trans', 'alcohol', 'ash', 'caffeine', 'theobromine',\n",
    "       'water'\n",
    "    \n",
    "]"
   ]
  },
  {
   "cell_type": "code",
   "execution_count": 96,
   "id": "5c44bfff",
   "metadata": {},
   "outputs": [],
   "source": [
    "def preprocess_iu(value):\n",
    "    if isinstance(value, str) and 'IU' in value:\n",
    "        try:\n",
    "            return float(value.replace('IU', '')) * 0.000025\n",
    "        except ValueError:\n",
    "            pass\n",
    "    return value"
   ]
  },
  {
   "cell_type": "code",
   "execution_count": 97,
   "id": "d65c9ae0",
   "metadata": {},
   "outputs": [],
   "source": [
    "for nutrient in nutrient_columns:\n",
    "    food_data[nutrient] = food_data[nutrient].apply(preprocess_iu)"
   ]
  },
  {
   "cell_type": "code",
   "execution_count": 98,
   "id": "bb639c79",
   "metadata": {},
   "outputs": [],
   "source": [
    "preprocessed_file = 'preprocessed_food.csv'\n",
    "food_data.to_csv(preprocessed_file, index=False)"
   ]
  },
  {
   "cell_type": "code",
   "execution_count": 100,
   "id": "dffd0b36",
   "metadata": {},
   "outputs": [],
   "source": [
    "import pandas as pd\n",
    "data = pd.read_csv('preprocessed_food.csv')"
   ]
  },
  {
   "cell_type": "code",
   "execution_count": 101,
   "id": "596fb1b6",
   "metadata": {},
   "outputs": [],
   "source": [
    "numeric_columns = data.columns[1:]"
   ]
  },
  {
   "cell_type": "code",
   "execution_count": 103,
   "id": "0053729f",
   "metadata": {},
   "outputs": [],
   "source": [
    "data_filled = data.fillna(0)"
   ]
  },
  {
   "cell_type": "code",
   "execution_count": 105,
   "id": "2f37730b",
   "metadata": {},
   "outputs": [],
   "source": [
    "data_filled.to_csv('preprocessed_food.csv', index=False)"
   ]
  },
  {
   "cell_type": "code",
   "execution_count": 106,
   "id": "f3a58a89",
   "metadata": {},
   "outputs": [
    {
     "name": "stdout",
     "output_type": "stream",
     "text": [
      "Preprocessing complete. Preprocessed data saved as 'preprocessed_disease.csv'.\n"
     ]
    }
   ],
   "source": [
    "import pandas as pd\n",
    "original_data = pd.read_csv('disease.csv')\n",
    "preprocessed_data = original_data.copy()\n",
    "for column in preprocessed_data.columns[1:]:\n",
    "    preprocessed_data[column] = pd.to_numeric(preprocessed_data[column], errors='coerce')\n",
    "\n",
    "\n",
    "preprocessed_data.to_csv('preprocessed_disease.csv', index=False)\n",
    "\n",
    "print(\"Preprocessing complete. Preprocessed data saved as 'preprocessed_disease.csv'.\")"
   ]
  },
  {
   "cell_type": "code",
   "execution_count": 107,
   "id": "9b47a88e",
   "metadata": {},
   "outputs": [],
   "source": [
    "import pandas as pd\n",
    "data = pd.read_csv('preprocessed_food.csv')\n",
    "filtered_data = data[~data['name'].str.contains('babyfood', case=False)]"
   ]
  },
  {
   "cell_type": "code",
   "execution_count": 109,
   "id": "4318810b",
   "metadata": {},
   "outputs": [],
   "source": [
    "filtered_data.to_csv('preprocessed_food.csv', index=False)"
   ]
  },
  {
   "cell_type": "code",
   "execution_count": 110,
   "id": "80936491",
   "metadata": {},
   "outputs": [],
   "source": [
    "data = pd.read_csv('preprocessed_food.csv')\n",
    "filtered_data = data[~data['name'].str.contains('Beverages', case=False)]"
   ]
  },
  {
   "cell_type": "code",
   "execution_count": 111,
   "id": "ae984801",
   "metadata": {},
   "outputs": [],
   "source": [
    "filtered_data.to_csv('preprocessed_food.csv', index=False)"
   ]
  },
  {
   "cell_type": "code",
   "execution_count": 114,
   "id": "9b0c0c54",
   "metadata": {},
   "outputs": [],
   "source": [
    "data = pd.read_csv('preprocessed_food.csv')\n",
    "filtered_data = data[~data['name'].str.contains('Carbonated beverage', case=False)]"
   ]
  },
  {
   "cell_type": "code",
   "execution_count": 115,
   "id": "e9a1f8b9",
   "metadata": {},
   "outputs": [],
   "source": [
    "filtered_data.to_csv('preprocessed_food.csv', index=False)"
   ]
  },
  {
   "cell_type": "code",
   "execution_count": null,
   "id": "4fb861af",
   "metadata": {},
   "outputs": [],
   "source": []
  }
 ],
 "metadata": {
  "kernelspec": {
   "display_name": "Python 3 (ipykernel)",
   "language": "python",
   "name": "python3"
  },
  "language_info": {
   "codemirror_mode": {
    "name": "ipython",
    "version": 3
   },
   "file_extension": ".py",
   "mimetype": "text/x-python",
   "name": "python",
   "nbconvert_exporter": "python",
   "pygments_lexer": "ipython3",
   "version": "3.10.4"
  }
 },
 "nbformat": 4,
 "nbformat_minor": 5
}
