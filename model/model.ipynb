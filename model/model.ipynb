{
 "cells": [
  {
   "cell_type": "code",
   "execution_count": 56,
   "metadata": {},
   "outputs": [],
   "source": [
    "import numpy as np\n",
    "import pandas as pd"
   ]
  },
  {
   "cell_type": "code",
   "execution_count": 57,
   "metadata": {},
   "outputs": [],
   "source": [
    "food_data = pd.read_csv('preprocessed_food.csv')\n",
    "disease_data = pd.read_csv('preprocessed_disease.csv')"
   ]
  },
  {
   "cell_type": "code",
   "execution_count": 58,
   "metadata": {},
   "outputs": [],
   "source": [
    "from sklearn.metrics.pairwise import cosine_similarity"
   ]
  },
  {
   "cell_type": "markdown",
   "metadata": {},
   "source": [
    "## Cosine Similarity"
   ]
  },
  {
   "cell_type": "code",
   "execution_count": 89,
   "metadata": {},
   "outputs": [
    {
     "name": "stdout",
     "output_type": "stream",
     "text": [
      "Top Recommended Foods for Hypertension\n",
      "1. Restaurant, without meat or noodles, vegetable chow mein, Chinese\n",
      "2. Soup, ready to serve, traditional, beef barley, PROGRESSO\n",
      "3. Soup, ready to serve, beef barley\n",
      "4. Soup, ready-to-serve, canned, beef and vegetables\n",
      "5. Soup, ready-to-serve, canned, chunky vegetable\n",
      "\n",
      "\n",
      "Not Recommended Foods for Hypertension\n",
      "1. Seasoning mix, coriander & annatto, sazon, dry\n",
      "2. Salt, table\n",
      "3. Leavening agents, baking soda\n",
      "4. Fish oil, fully hydrogenated, menhaden\n",
      "5. Oil, fully hydrogenated, soy, industrial\n",
      "==================================================\n",
      "Top Recommended Foods for Diabetes(Type-1)\n",
      "1. Restaurant, without meat or noodles, vegetable chow mein, Chinese\n",
      "2. Squash, without salt, drained, boiled, cooked, crookneck and straightneck, summer\n",
      "3. Squash, with salt, drained, boiled, cooked, crookneck and straightneck, summer\n",
      "4. Soup, ready-to-serve, canned, chicken and vegetable\n",
      "5. Squash, includes skin, zucchini, summer\n",
      "\n",
      "\n",
      "Not Recommended Foods for Diabetes(Type-1)\n",
      "1. Seasoning mix, coriander & annatto, sazon, dry\n",
      "2. Salt, table\n",
      "3. Leavening agents, baking soda\n",
      "4. Fish oil, fully hydrogenated, menhaden\n",
      "5. Oil, fully hydrogenated, soy, industrial\n",
      "==================================================\n",
      "Top Recommended Foods for Skin Cancer\n",
      "1. Squash, includes skin, zucchini, summer\n",
      "2. Lemonade, prepared with water, powder\n",
      "3. Squash, without salt, drained, boiled, cooked, crookneck and straightneck, summer\n",
      "4. Squash, with salt, drained, boiled, cooked, crookneck and straightneck, summer\n",
      "5. Squash, crookneck and straightneck, summer\n",
      "\n",
      "\n",
      "Not Recommended Foods for Skin Cancer\n",
      "1. Salt, table\n",
      "2. Seasoning mix, coriander & annatto, sazon, dry\n",
      "3. Leavening agents, baking soda\n",
      "4. Sweetener, herbal extract powder from Stevia leaf\n",
      "5. Desserts, dry mix, vanilla, rennin\n",
      "==================================================\n",
      "Top Recommended Foods for general\n",
      "1. Restaurant, without meat or noodles, vegetable chow mein, Chinese\n",
      "2. Soup, ready to serve, traditional, beef barley, PROGRESSO\n",
      "3. Soup, ready to serve, beef barley\n",
      "4. Soup, ready-to-serve, canned, beef and vegetables\n",
      "5. Soup, ready-to-serve, canned, chunky vegetable\n",
      "\n",
      "\n",
      "Not Recommended Foods for general\n",
      "1. Seasoning mix, coriander & annatto, sazon, dry\n",
      "2. Salt, table\n",
      "3. Leavening agents, baking soda\n",
      "4. Fish oil, fully hydrogenated, menhaden\n",
      "5. Oil, fully hydrogenated, soy, industrial\n",
      "==================================================\n"
     ]
    }
   ],
   "source": [
    "selected_diseases = ['Hypertension', 'Diabetes(Type-1)', 'Skin Cancer', 'general']\n",
    "\n",
    "# Create an empty dictionary to store similarity scores for each disease\n",
    "similarity_scores_dict = {}\n",
    "\n",
    "for selected_disease in selected_diseases:\n",
    "    disease_limits = disease_data[disease_data['disease_name'] == selected_disease].iloc[:, 1:].values\n",
    "    nutrient_columns = food_data.columns[1:]\n",
    "    food_nutrition = food_data[nutrient_columns].values\n",
    "    similarity_scores = cosine_similarity(disease_limits, food_nutrition)\n",
    "    inverted_similarity_scores = 1 - similarity_scores\n",
    "    top_food_indices = np.argsort(inverted_similarity_scores)[0]\n",
    "\n",
    "    # Store the similarity scores in the dictionary\n",
    "    similarity_scores_dict[selected_disease] = inverted_similarity_scores\n",
    "\n",
    "    print(\"Top Recommended Foods for\", selected_disease)\n",
    "    for i, idx in enumerate(top_food_indices[:5]):\n",
    "        food_name = food_data.loc[idx, 'name']\n",
    "        print(f\"{i+1}. {food_name}\")\n",
    "    print()\n",
    "\n",
    "    print(\"\\nNot Recommended Foods for\", selected_disease)\n",
    "    for i, idx in enumerate(top_food_indices[-5:][::-1]):\n",
    "        food_name = food_data.loc[idx, 'name']\n",
    "        print(f\"{i+1}. {food_name}\")\n",
    "    print('=' * 50)\n",
    "\n"
   ]
  },
  {
   "cell_type": "code",
   "execution_count": 90,
   "metadata": {},
   "outputs": [
    {
     "data": {
      "text/plain": [
       "{'Hypertension': array([[0.83033188, 0.92873466, 0.00226299, ..., 0.16279868, 0.04943411,\n",
       "         0.04943411]]),\n",
       " 'Diabetes(Type-1)': array([[0.86963811, 0.92891784, 0.00248732, ..., 0.15985101, 0.04879213,\n",
       "         0.04879213]]),\n",
       " 'Skin Cancer': array([[0.90135264, 0.93812756, 0.00318844, ..., 0.16082725, 0.0471918 ,\n",
       "         0.0471918 ]]),\n",
       " 'general': array([[0.8303457 , 0.92413273, 0.00233985, ..., 0.16149148, 0.05102753,\n",
       "         0.05102753]])}"
      ]
     },
     "execution_count": 90,
     "metadata": {},
     "output_type": "execute_result"
    }
   ],
   "source": [
    "# Convert the dictionary to a DataFrame\n",
    "similarity_scores_dict"
   ]
  },
  {
   "cell_type": "code",
   "execution_count": 91,
   "metadata": {},
   "outputs": [],
   "source": [
    "# Flatten the arrays\n",
    "flattened_dict = {disease: array.flatten() for disease, array in similarity_scores_dict.items()}\n",
    "\n",
    "# Convert to a DataFrame\n",
    "similarity_scores_df = pd.DataFrame(flattened_dict)"
   ]
  },
  {
   "cell_type": "code",
   "execution_count": 76,
   "metadata": {},
   "outputs": [
    {
     "data": {
      "text/html": [
       "<div>\n",
       "<style scoped>\n",
       "    .dataframe tbody tr th:only-of-type {\n",
       "        vertical-align: middle;\n",
       "    }\n",
       "\n",
       "    .dataframe tbody tr th {\n",
       "        vertical-align: top;\n",
       "    }\n",
       "\n",
       "    .dataframe thead th {\n",
       "        text-align: right;\n",
       "    }\n",
       "</style>\n",
       "<table border=\"1\" class=\"dataframe\">\n",
       "  <thead>\n",
       "    <tr style=\"text-align: right;\">\n",
       "      <th></th>\n",
       "      <th>Hypertension</th>\n",
       "      <th>Diabetes(Type-1)</th>\n",
       "      <th>Skin Cancer</th>\n",
       "      <th>general</th>\n",
       "    </tr>\n",
       "  </thead>\n",
       "  <tbody>\n",
       "    <tr>\n",
       "      <th>0</th>\n",
       "      <td>0.830332</td>\n",
       "      <td>0.869638</td>\n",
       "      <td>0.901353</td>\n",
       "      <td>0.830346</td>\n",
       "    </tr>\n",
       "    <tr>\n",
       "      <th>1</th>\n",
       "      <td>0.928735</td>\n",
       "      <td>0.928918</td>\n",
       "      <td>0.938128</td>\n",
       "      <td>0.924133</td>\n",
       "    </tr>\n",
       "    <tr>\n",
       "      <th>2</th>\n",
       "      <td>0.002263</td>\n",
       "      <td>0.002487</td>\n",
       "      <td>0.003188</td>\n",
       "      <td>0.002340</td>\n",
       "    </tr>\n",
       "    <tr>\n",
       "      <th>3</th>\n",
       "      <td>0.799281</td>\n",
       "      <td>0.838257</td>\n",
       "      <td>0.867219</td>\n",
       "      <td>0.800134</td>\n",
       "    </tr>\n",
       "    <tr>\n",
       "      <th>4</th>\n",
       "      <td>0.108112</td>\n",
       "      <td>0.121677</td>\n",
       "      <td>0.124822</td>\n",
       "      <td>0.107994</td>\n",
       "    </tr>\n",
       "    <tr>\n",
       "      <th>...</th>\n",
       "      <td>...</td>\n",
       "      <td>...</td>\n",
       "      <td>...</td>\n",
       "      <td>...</td>\n",
       "    </tr>\n",
       "    <tr>\n",
       "      <th>8181</th>\n",
       "      <td>0.050708</td>\n",
       "      <td>0.050044</td>\n",
       "      <td>0.048484</td>\n",
       "      <td>0.052267</td>\n",
       "    </tr>\n",
       "    <tr>\n",
       "      <th>8182</th>\n",
       "      <td>0.117612</td>\n",
       "      <td>0.117246</td>\n",
       "      <td>0.115550</td>\n",
       "      <td>0.119226</td>\n",
       "    </tr>\n",
       "    <tr>\n",
       "      <th>8183</th>\n",
       "      <td>0.162799</td>\n",
       "      <td>0.159851</td>\n",
       "      <td>0.160827</td>\n",
       "      <td>0.161491</td>\n",
       "    </tr>\n",
       "    <tr>\n",
       "      <th>8184</th>\n",
       "      <td>0.049434</td>\n",
       "      <td>0.048792</td>\n",
       "      <td>0.047192</td>\n",
       "      <td>0.051028</td>\n",
       "    </tr>\n",
       "    <tr>\n",
       "      <th>8185</th>\n",
       "      <td>0.049434</td>\n",
       "      <td>0.048792</td>\n",
       "      <td>0.047192</td>\n",
       "      <td>0.051028</td>\n",
       "    </tr>\n",
       "  </tbody>\n",
       "</table>\n",
       "<p>8186 rows × 4 columns</p>\n",
       "</div>"
      ],
      "text/plain": [
       "      Hypertension  Diabetes(Type-1)  Skin Cancer   general\n",
       "0         0.830332          0.869638     0.901353  0.830346\n",
       "1         0.928735          0.928918     0.938128  0.924133\n",
       "2         0.002263          0.002487     0.003188  0.002340\n",
       "3         0.799281          0.838257     0.867219  0.800134\n",
       "4         0.108112          0.121677     0.124822  0.107994\n",
       "...            ...               ...          ...       ...\n",
       "8181      0.050708          0.050044     0.048484  0.052267\n",
       "8182      0.117612          0.117246     0.115550  0.119226\n",
       "8183      0.162799          0.159851     0.160827  0.161491\n",
       "8184      0.049434          0.048792     0.047192  0.051028\n",
       "8185      0.049434          0.048792     0.047192  0.051028\n",
       "\n",
       "[8186 rows x 4 columns]"
      ]
     },
     "execution_count": 76,
     "metadata": {},
     "output_type": "execute_result"
    }
   ],
   "source": [
    "similarity_scores_df"
   ]
  },
  {
   "cell_type": "markdown",
   "metadata": {},
   "source": [
    "### Export similarity scores"
   ]
  },
  {
   "cell_type": "code",
   "execution_count": 94,
   "metadata": {},
   "outputs": [],
   "source": [
    "import pickle\n",
    "\n",
    "with open('similarity_scores.pkl', 'wb') as model_file:\n",
    "    pickle.dump(similarity_scores_df, model_file)"
   ]
  }
 ],
 "metadata": {
  "kernelspec": {
   "display_name": "env",
   "language": "python",
   "name": "python3"
  },
  "language_info": {
   "codemirror_mode": {
    "name": "ipython",
    "version": 3
   },
   "file_extension": ".py",
   "mimetype": "text/x-python",
   "name": "python",
   "nbconvert_exporter": "python",
   "pygments_lexer": "ipython3",
   "version": "3.10.0"
  }
 },
 "nbformat": 4,
 "nbformat_minor": 2
}
